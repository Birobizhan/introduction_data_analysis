{
 "cells": [
  {
   "cell_type": "markdown",
   "metadata": {
    "id": "bri_pAriNFqN"
   },
   "source": [
    "**Цель работы:**\n",
    "\n",
    "Осуществить предварительную обработку данных csv-файла, выявить и устранить проблемы в этих данных."
   ]
  },
  {
   "cell_type": "markdown",
   "metadata": {
    "id": "r_e-GeJmgZ8l"
   },
   "source": [
    "# Загрузка набора данных"
   ]
  },
  {
   "cell_type": "markdown",
   "metadata": {
    "id": "eeq9ZAbSguQS"
   },
   "source": [
    "### Описание предметной области"
   ]
  },
  {
   "cell_type": "markdown",
   "metadata": {
    "id": "XHbH8zNIg0Ib"
   },
   "source": [
    "Вариант №9\n",
    "\n",
    "Набор данных: auto.csv\n",
    "\n",
    "Атрибуты:\n",
    "..."
   ]
  },
  {
   "cell_type": "markdown",
   "metadata": {
    "id": "Lwin9ia7hT1i"
   },
   "source": [
    "### 1.Чтение файла (набора данных)"
   ]
  },
  {
   "cell_type": "code",
   "execution_count": 58,
   "metadata": {
    "id": "a5dYQO5YhOYa"
   },
   "outputs": [],
   "source": [
    "# импорт библиотек, чтение файла с помощью pandas\n",
    "import pandas as pd\n",
    "\n",
    "df = pd.read_csv('auto.csv', sep=',')"
   ]
  },
  {
   "cell_type": "markdown",
   "metadata": {
    "id": "p82p53SvhjLN"
   },
   "source": [
    "### 2. Обзор данных"
   ]
  },
  {
   "cell_type": "markdown",
   "metadata": {
    "id": "eAYzXaLrh-qh"
   },
   "source": [
    "2.1 Вывод первых 20 строк с помощью метода head."
   ]
  },
  {
   "cell_type": "code",
   "execution_count": 59,
   "metadata": {
    "id": "7yMo3VZ_hotx"
   },
   "outputs": [
    {
     "data": {
      "text/html": [
       "<div>\n",
       "<style scoped>\n",
       "    .dataframe tbody tr th:only-of-type {\n",
       "        vertical-align: middle;\n",
       "    }\n",
       "\n",
       "    .dataframe tbody tr th {\n",
       "        vertical-align: top;\n",
       "    }\n",
       "\n",
       "    .dataframe thead th {\n",
       "        text-align: right;\n",
       "    }\n",
       "</style>\n",
       "<table border=\"1\" class=\"dataframe\">\n",
       "  <thead>\n",
       "    <tr style=\"text-align: right;\">\n",
       "      <th></th>\n",
       "      <th>Name</th>\n",
       "      <th>year</th>\n",
       "      <th>SellingPrice</th>\n",
       "      <th>kmdriven</th>\n",
       "      <th>fuel</th>\n",
       "      <th>seller_Type</th>\n",
       "      <th>transmission</th>\n",
       "      <th>owner</th>\n",
       "    </tr>\n",
       "  </thead>\n",
       "  <tbody>\n",
       "    <tr>\n",
       "      <th>0</th>\n",
       "      <td>Maruti 800 AC</td>\n",
       "      <td>2007</td>\n",
       "      <td>60000.00000</td>\n",
       "      <td>70000.00000</td>\n",
       "      <td>Petrol</td>\n",
       "      <td>Individual</td>\n",
       "      <td>Manual</td>\n",
       "      <td>First Owner</td>\n",
       "    </tr>\n",
       "    <tr>\n",
       "      <th>1</th>\n",
       "      <td>Maruti Wagon R LXI Minor</td>\n",
       "      <td>2007</td>\n",
       "      <td>135000.00000</td>\n",
       "      <td>50000.00000</td>\n",
       "      <td>Petrol</td>\n",
       "      <td>Individual</td>\n",
       "      <td>Manual</td>\n",
       "      <td>First Owner</td>\n",
       "    </tr>\n",
       "    <tr>\n",
       "      <th>2</th>\n",
       "      <td>Hyundai Verna 1.6 SX</td>\n",
       "      <td>2012</td>\n",
       "      <td>600000.00000</td>\n",
       "      <td>100000.00000</td>\n",
       "      <td>Diesel</td>\n",
       "      <td>Individual</td>\n",
       "      <td>Manual</td>\n",
       "      <td>First Owner</td>\n",
       "    </tr>\n",
       "    <tr>\n",
       "      <th>3</th>\n",
       "      <td>Datsun RediGO T Option</td>\n",
       "      <td>2017</td>\n",
       "      <td>250000.00000</td>\n",
       "      <td>46000.00000</td>\n",
       "      <td>Petrol</td>\n",
       "      <td>Individual</td>\n",
       "      <td>Manual</td>\n",
       "      <td>First Owner</td>\n",
       "    </tr>\n",
       "    <tr>\n",
       "      <th>4</th>\n",
       "      <td>Honda Amaze VX i-DTEC</td>\n",
       "      <td>2014</td>\n",
       "      <td>450000.00000</td>\n",
       "      <td>141000.00000</td>\n",
       "      <td>Diesel</td>\n",
       "      <td>Individual</td>\n",
       "      <td>Manual</td>\n",
       "      <td>Second Owner</td>\n",
       "    </tr>\n",
       "    <tr>\n",
       "      <th>5</th>\n",
       "      <td>Maruti Alto LX BSIII</td>\n",
       "      <td>2007</td>\n",
       "      <td>140000.00000</td>\n",
       "      <td>125000.00000</td>\n",
       "      <td>Petrol</td>\n",
       "      <td>Individual</td>\n",
       "      <td>Manual</td>\n",
       "      <td>First Owner</td>\n",
       "    </tr>\n",
       "    <tr>\n",
       "      <th>6</th>\n",
       "      <td>Hyundai Xcent 1.2 Kappa S</td>\n",
       "      <td>2016</td>\n",
       "      <td>550000.00000</td>\n",
       "      <td>25000.00000</td>\n",
       "      <td>Petrol</td>\n",
       "      <td>Individual</td>\n",
       "      <td>Manual</td>\n",
       "      <td>First Owner</td>\n",
       "    </tr>\n",
       "    <tr>\n",
       "      <th>7</th>\n",
       "      <td>Tata Indigo Grand Petroll</td>\n",
       "      <td>2014</td>\n",
       "      <td>240000.00000</td>\n",
       "      <td>60000.00000</td>\n",
       "      <td>Petrol</td>\n",
       "      <td>Individual</td>\n",
       "      <td>Manual</td>\n",
       "      <td>Second Owner</td>\n",
       "    </tr>\n",
       "    <tr>\n",
       "      <th>8</th>\n",
       "      <td>Hyundai Creta 1.6 VTVT S</td>\n",
       "      <td>2015</td>\n",
       "      <td>850000.00000</td>\n",
       "      <td>25000.00000</td>\n",
       "      <td>Petroll</td>\n",
       "      <td>Individual</td>\n",
       "      <td>Manual</td>\n",
       "      <td>First Owner</td>\n",
       "    </tr>\n",
       "    <tr>\n",
       "      <th>9</th>\n",
       "      <td>Maruti Celerio Green VXI</td>\n",
       "      <td>2017</td>\n",
       "      <td>365000.00000</td>\n",
       "      <td>78000.00000</td>\n",
       "      <td>CNG</td>\n",
       "      <td>Individual</td>\n",
       "      <td>Manual</td>\n",
       "      <td>First Owner</td>\n",
       "    </tr>\n",
       "    <tr>\n",
       "      <th>10</th>\n",
       "      <td>Chevrolet Sail 1.2 Base</td>\n",
       "      <td>2015</td>\n",
       "      <td>260000.00000</td>\n",
       "      <td>35000.00000</td>\n",
       "      <td>Petrol</td>\n",
       "      <td>Individual</td>\n",
       "      <td>Manual</td>\n",
       "      <td>First Owner</td>\n",
       "    </tr>\n",
       "    <tr>\n",
       "      <th>11</th>\n",
       "      <td>Tata Indigo Grand Petrol</td>\n",
       "      <td>2014</td>\n",
       "      <td>250000.00000</td>\n",
       "      <td>100000.00000</td>\n",
       "      <td>Petrol</td>\n",
       "      <td>Individual</td>\n",
       "      <td>Manual</td>\n",
       "      <td>First Owner</td>\n",
       "    </tr>\n",
       "    <tr>\n",
       "      <th>12</th>\n",
       "      <td>Toyota Corolla Altis 1.8 VL CVT</td>\n",
       "      <td>2018</td>\n",
       "      <td>1650000.00000</td>\n",
       "      <td>25000.00000</td>\n",
       "      <td>Petrol</td>\n",
       "      <td>Dealer</td>\n",
       "      <td>Automatic</td>\n",
       "      <td>First Owner</td>\n",
       "    </tr>\n",
       "    <tr>\n",
       "      <th>13</th>\n",
       "      <td>Maruti 800 AC</td>\n",
       "      <td>2007</td>\n",
       "      <td>60000.00000</td>\n",
       "      <td>70000.00000</td>\n",
       "      <td>Petrol</td>\n",
       "      <td>Individual</td>\n",
       "      <td>Manual</td>\n",
       "      <td>First Owner</td>\n",
       "    </tr>\n",
       "    <tr>\n",
       "      <th>14</th>\n",
       "      <td>Maruti Wagon R LXI Minor</td>\n",
       "      <td>2007</td>\n",
       "      <td>135000.00000</td>\n",
       "      <td>50000.00000</td>\n",
       "      <td>Petrol</td>\n",
       "      <td>Individual</td>\n",
       "      <td>Manual</td>\n",
       "      <td>First Owner</td>\n",
       "    </tr>\n",
       "    <tr>\n",
       "      <th>15</th>\n",
       "      <td>Hyundai Verna 1.6 SX</td>\n",
       "      <td>2012</td>\n",
       "      <td>600000.00000</td>\n",
       "      <td>100000.00000</td>\n",
       "      <td>Diesel</td>\n",
       "      <td>Individual</td>\n",
       "      <td>Manual</td>\n",
       "      <td>First Owner</td>\n",
       "    </tr>\n",
       "    <tr>\n",
       "      <th>16</th>\n",
       "      <td>Datsun RediGO T Option</td>\n",
       "      <td>2017</td>\n",
       "      <td>250000.00000</td>\n",
       "      <td>46000.00000</td>\n",
       "      <td>Petrol</td>\n",
       "      <td>Individual</td>\n",
       "      <td>Manual</td>\n",
       "      <td>First Owner</td>\n",
       "    </tr>\n",
       "    <tr>\n",
       "      <th>17</th>\n",
       "      <td>Honda Amaze VX i-DTEC</td>\n",
       "      <td>2014</td>\n",
       "      <td>450000.00000</td>\n",
       "      <td>141000.00000</td>\n",
       "      <td>Diesel</td>\n",
       "      <td>Individual</td>\n",
       "      <td>Manual</td>\n",
       "      <td>Second Owner</td>\n",
       "    </tr>\n",
       "    <tr>\n",
       "      <th>18</th>\n",
       "      <td>Maruti Alto LX BSIII</td>\n",
       "      <td>2007</td>\n",
       "      <td>140000.00000</td>\n",
       "      <td>125000.00000</td>\n",
       "      <td>Petrol</td>\n",
       "      <td>Individual</td>\n",
       "      <td>Manual</td>\n",
       "      <td>First Owner</td>\n",
       "    </tr>\n",
       "    <tr>\n",
       "      <th>19</th>\n",
       "      <td>Hyundai Xcent 1.2 Kappa S</td>\n",
       "      <td>2016</td>\n",
       "      <td>550000.00000</td>\n",
       "      <td>25000.00000</td>\n",
       "      <td>Petrol</td>\n",
       "      <td>Individual</td>\n",
       "      <td>Manual</td>\n",
       "      <td>First Owner</td>\n",
       "    </tr>\n",
       "  </tbody>\n",
       "</table>\n",
       "</div>"
      ],
      "text/plain": [
       "                               Name  year  SellingPrice     kmdriven     fuel  \\\n",
       "0                     Maruti 800 AC  2007   60000.00000  70000.00000   Petrol   \n",
       "1          Maruti Wagon R LXI Minor  2007  135000.00000  50000.00000   Petrol   \n",
       "2              Hyundai Verna 1.6 SX  2012  600000.00000 100000.00000   Diesel   \n",
       "3            Datsun RediGO T Option  2017  250000.00000  46000.00000   Petrol   \n",
       "4             Honda Amaze VX i-DTEC  2014  450000.00000 141000.00000   Diesel   \n",
       "5              Maruti Alto LX BSIII  2007  140000.00000 125000.00000   Petrol   \n",
       "6         Hyundai Xcent 1.2 Kappa S  2016  550000.00000  25000.00000   Petrol   \n",
       "7         Tata Indigo Grand Petroll  2014  240000.00000  60000.00000   Petrol   \n",
       "8          Hyundai Creta 1.6 VTVT S  2015  850000.00000  25000.00000  Petroll   \n",
       "9          Maruti Celerio Green VXI  2017  365000.00000  78000.00000      CNG   \n",
       "10          Chevrolet Sail 1.2 Base  2015  260000.00000  35000.00000   Petrol   \n",
       "11         Tata Indigo Grand Petrol  2014  250000.00000 100000.00000   Petrol   \n",
       "12  Toyota Corolla Altis 1.8 VL CVT  2018 1650000.00000  25000.00000   Petrol   \n",
       "13                    Maruti 800 AC  2007   60000.00000  70000.00000   Petrol   \n",
       "14         Maruti Wagon R LXI Minor  2007  135000.00000  50000.00000   Petrol   \n",
       "15             Hyundai Verna 1.6 SX  2012  600000.00000 100000.00000   Diesel   \n",
       "16           Datsun RediGO T Option  2017  250000.00000  46000.00000   Petrol   \n",
       "17            Honda Amaze VX i-DTEC  2014  450000.00000 141000.00000   Diesel   \n",
       "18             Maruti Alto LX BSIII  2007  140000.00000 125000.00000   Petrol   \n",
       "19        Hyundai Xcent 1.2 Kappa S  2016  550000.00000  25000.00000   Petrol   \n",
       "\n",
       "   seller_Type transmission         owner  \n",
       "0   Individual       Manual   First Owner  \n",
       "1   Individual       Manual   First Owner  \n",
       "2   Individual       Manual   First Owner  \n",
       "3   Individual       Manual   First Owner  \n",
       "4   Individual       Manual  Second Owner  \n",
       "5   Individual       Manual   First Owner  \n",
       "6   Individual       Manual   First Owner  \n",
       "7   Individual       Manual  Second Owner  \n",
       "8   Individual       Manual   First Owner  \n",
       "9   Individual       Manual   First Owner  \n",
       "10  Individual       Manual   First Owner  \n",
       "11  Individual       Manual   First Owner  \n",
       "12      Dealer    Automatic   First Owner  \n",
       "13  Individual       Manual   First Owner  \n",
       "14  Individual       Manual   First Owner  \n",
       "15  Individual       Manual   First Owner  \n",
       "16  Individual       Manual   First Owner  \n",
       "17  Individual       Manual  Second Owner  \n",
       "18  Individual       Manual   First Owner  \n",
       "19  Individual       Manual   First Owner  "
      ]
     },
     "execution_count": 59,
     "metadata": {},
     "output_type": "execute_result"
    }
   ],
   "source": [
    "# применить метод head\n",
    "df.head(20)"
   ]
  },
  {
   "cell_type": "markdown",
   "metadata": {
    "id": "Ze-lXxLMhpWv"
   },
   "source": [
    "2.2 Оценка данных с помощью метода info."
   ]
  },
  {
   "cell_type": "code",
   "execution_count": 60,
   "metadata": {
    "id": "bjhngmaLiGM-"
   },
   "outputs": [
    {
     "name": "stdout",
     "output_type": "stream",
     "text": [
      "<class 'pandas.core.frame.DataFrame'>\n",
      "RangeIndex: 4344 entries, 0 to 4343\n",
      "Data columns (total 8 columns):\n",
      " #   Column        Non-Null Count  Dtype  \n",
      "---  ------        --------------  -----  \n",
      " 0   Name          4344 non-null   object \n",
      " 1   year          4344 non-null   int64  \n",
      " 2   SellingPrice  4342 non-null   float64\n",
      " 3   kmdriven      4343 non-null   float64\n",
      " 4   fuel          4343 non-null   object \n",
      " 5   seller_Type   4344 non-null   object \n",
      " 6   transmission  4344 non-null   object \n",
      " 7   owner         4344 non-null   object \n",
      "dtypes: float64(2), int64(1), object(5)\n",
      "memory usage: 271.6+ KB\n"
     ]
    }
   ],
   "source": [
    "# выполнит метод info\n",
    "df.info()"
   ]
  },
  {
   "cell_type": "markdown",
   "metadata": {
    "id": "06PDq9DAiMAY"
   },
   "source": [
    "2.3 Оценка данных с помощью метода describe."
   ]
  },
  {
   "cell_type": "code",
   "execution_count": 61,
   "metadata": {
    "id": "cTVFwzO1jQfN"
   },
   "outputs": [
    {
     "data": {
      "text/html": [
       "<div>\n",
       "<style scoped>\n",
       "    .dataframe tbody tr th:only-of-type {\n",
       "        vertical-align: middle;\n",
       "    }\n",
       "\n",
       "    .dataframe tbody tr th {\n",
       "        vertical-align: top;\n",
       "    }\n",
       "\n",
       "    .dataframe thead th {\n",
       "        text-align: right;\n",
       "    }\n",
       "</style>\n",
       "<table border=\"1\" class=\"dataframe\">\n",
       "  <thead>\n",
       "    <tr style=\"text-align: right;\">\n",
       "      <th></th>\n",
       "      <th>year</th>\n",
       "      <th>SellingPrice</th>\n",
       "      <th>kmdriven</th>\n",
       "    </tr>\n",
       "  </thead>\n",
       "  <tbody>\n",
       "    <tr>\n",
       "      <th>count</th>\n",
       "      <td>4344.00000</td>\n",
       "      <td>4342.00000</td>\n",
       "      <td>4343.00000</td>\n",
       "    </tr>\n",
       "    <tr>\n",
       "      <th>mean</th>\n",
       "      <td>2013.09231</td>\n",
       "      <td>503998.74090</td>\n",
       "      <td>66193.06332</td>\n",
       "    </tr>\n",
       "    <tr>\n",
       "      <th>std</th>\n",
       "      <td>4.21454</td>\n",
       "      <td>578446.45972</td>\n",
       "      <td>46636.64876</td>\n",
       "    </tr>\n",
       "    <tr>\n",
       "      <th>min</th>\n",
       "      <td>1992.00000</td>\n",
       "      <td>20000.00000</td>\n",
       "      <td>1.00000</td>\n",
       "    </tr>\n",
       "    <tr>\n",
       "      <th>25%</th>\n",
       "      <td>2011.00000</td>\n",
       "      <td>210000.00000</td>\n",
       "      <td>35000.00000</td>\n",
       "    </tr>\n",
       "    <tr>\n",
       "      <th>50%</th>\n",
       "      <td>2014.00000</td>\n",
       "      <td>350000.00000</td>\n",
       "      <td>60000.00000</td>\n",
       "    </tr>\n",
       "    <tr>\n",
       "      <th>75%</th>\n",
       "      <td>2016.00000</td>\n",
       "      <td>600000.00000</td>\n",
       "      <td>90000.00000</td>\n",
       "    </tr>\n",
       "    <tr>\n",
       "      <th>max</th>\n",
       "      <td>2020.00000</td>\n",
       "      <td>8900000.00000</td>\n",
       "      <td>806599.00000</td>\n",
       "    </tr>\n",
       "  </tbody>\n",
       "</table>\n",
       "</div>"
      ],
      "text/plain": [
       "            year  SellingPrice     kmdriven\n",
       "count 4344.00000    4342.00000   4343.00000\n",
       "mean  2013.09231  503998.74090  66193.06332\n",
       "std      4.21454  578446.45972  46636.64876\n",
       "min   1992.00000   20000.00000      1.00000\n",
       "25%   2011.00000  210000.00000  35000.00000\n",
       "50%   2014.00000  350000.00000  60000.00000\n",
       "75%   2016.00000  600000.00000  90000.00000\n",
       "max   2020.00000 8900000.00000 806599.00000"
      ]
     },
     "execution_count": 61,
     "metadata": {},
     "output_type": "execute_result"
    }
   ],
   "source": [
    "# оцените числовые столбцы с помощью describe\n",
    "pd.set_option('display.float_format', '{:.5f}'.format)\n",
    "df.describe()"
   ]
  },
  {
   "cell_type": "markdown",
   "metadata": {
    "id": "oOZUrZGuiGqc"
   },
   "source": [
    "\n",
    "---\n",
    "\n",
    "**Сделать выводы. Вы должны понимать, что означает тот или иной столбец, чтобы\n",
    " ответить на вопросы на защите.**\n",
    "\n",
    " ---\n",
    " ## Промежуточный вывод о данных\n",
    "Данные содержат 4344 записей о поддержанных авто с 8 признаками, включая имя владельца, год выпуска машины, цену продажи, пробег, тип топлива, тип продавца, тип коробки передач и тип владельца.\n",
    "\n",
    "Типы данных: Числовые: year, SellingPrice, kmdriven.\n",
    "\n",
    "Категориальные: Name, fuel, seller_Type, transmission, owner.\n",
    "\n",
    "Пропуски: SellingPrice - 2 пропущенных значения, kmdriven и fuel — по 1 пропущенному значению.\n"
   ]
  },
  {
   "cell_type": "markdown",
   "metadata": {
    "id": "JTbo0IGDiHxn"
   },
   "source": [
    " 2.4 Оценка названий столбцов"
   ]
  },
  {
   "cell_type": "code",
   "execution_count": 62,
   "metadata": {
    "id": "9NEyi2Odik3e"
   },
   "outputs": [
    {
     "data": {
      "text/plain": [
       "Index(['Name', 'year', 'SellingPrice', 'kmdriven', 'fuel', 'seller_Type',\n",
       "       'transmission', 'owner'],\n",
       "      dtype='object')"
      ]
     },
     "execution_count": 62,
     "metadata": {},
     "output_type": "execute_result"
    }
   ],
   "source": [
    "# Вывести на экран названия столбцов с помощью df.columns. Выявить проблемы с названиями, если они есть. При необходимости переименовать столбцы. Если проблемы не обнаружены также дать пояснения.\n",
    "df.columns"
   ]
  },
  {
   "cell_type": "code",
   "execution_count": 63,
   "metadata": {},
   "outputs": [
    {
     "name": "stdout",
     "output_type": "stream",
     "text": [
      "Проблем не обнаружено\n"
     ]
    }
   ],
   "source": [
    "# Проверка на наличие возможных проблем\n",
    "problems_found = []\n",
    "\n",
    "for col in df.columns:\n",
    "    if col != col.strip():\n",
    "        problems_found.append(f\"Столбец '{col}' имеет пробелы в начале или конце\")\n",
    "\n",
    "for col in df.columns:\n",
    "    if any(char in col for char in [' ', '.', '-', '/', '\\\\', '(', ')', '[', ']', '{', '}']):\n",
    "        problems_found.append(f\"Столбец '{col}' содержит специальные символы или пробелы\")\n",
    "\n",
    "if problems_found:\n",
    "    print(\"Обнаружены проблемы в названиях столбцов:\")\n",
    "    for problem in problems_found:\n",
    "        print(f\"- {problem}\")\n",
    "else:\n",
    "    print(\"Проблем не обнаружено\")"
   ]
  },
  {
   "cell_type": "markdown",
   "metadata": {},
   "source": [
    "## Анализ и коррекция названий столбцов\n",
    "Был проведен анализ названий столбцов на предмет наличия проблем:\n",
    "\n",
    "- Проверка на пробелы в начале/конце названий\n",
    "- Проверка на наличие специальных символов и пробелов\n",
    "\n",
    "После анализа выполнено переименование столбцов для улучшения читаемости и удобства работы:\n",
    "\n",
    "- Name → car_name\n",
    "- year → release_year\n",
    "- SellingPrice → selling_price\n",
    "- kmdriven → km_driven\n",
    "- fuel → fuel_type\n",
    "- seller_Type → seller_type\n",
    "- transmission → transmission\n",
    "- owner → owner_type\n",
    "\n",
    "В конце выводится обновленный список названий столбцов для подтверждения изменений."
   ]
  },
  {
   "cell_type": "code",
   "execution_count": 64,
   "metadata": {
    "id": "QSJBLl4qjjP8"
   },
   "outputs": [
    {
     "name": "stdout",
     "output_type": "stream",
     "text": [
      "Обновленные названия столбцов:\n",
      "['car_name', 'release_year', 'selling_price', 'km_driven', 'fuel_type', 'seller_type', 'transmission', 'owner_type']\n"
     ]
    }
   ],
   "source": [
    "# переименование столбцов\n",
    "df.rename(columns={\n",
    "    'Name': 'car_name',\n",
    "    'year': 'release_year',\n",
    "    'SellingPrice': 'selling_price',\n",
    "    'kmdriven': 'km_driven',\n",
    "    'fuel': 'fuel_type',\n",
    "    'seller_Type': 'seller_type',\n",
    "    'transmission': 'transmission',\n",
    "    'owner': 'owner_type'\n",
    "}, inplace=True)\n",
    "\n",
    "print(\"Обновленные названия столбцов:\")\n",
    "print(df.columns.tolist())"
   ]
  },
  {
   "cell_type": "markdown",
   "metadata": {
    "id": "V0tLQcyrjnA_"
   },
   "source": [
    "### 3. Проверка пропусков"
   ]
  },
  {
   "cell_type": "code",
   "execution_count": 65,
   "metadata": {
    "id": "xuTz-Avjj9AW"
   },
   "outputs": [
    {
     "name": "stdout",
     "output_type": "stream",
     "text": [
      "selling_price    2\n",
      "km_driven        1\n",
      "fuel_type        1\n",
      "dtype: int64\n",
      "Заполнено 2 пропусков в числовом столбце 'selling_price' медианой: 350000.0\n",
      "Заполнено 1 пропусков в числовом столбце 'km_driven' медианой: 60000.0\n",
      "Заполнено 1 пропусков в столбце 'fuel_type' модой: 'Diesel'\n",
      "Все пропуски успешно обработаны!\n"
     ]
    }
   ],
   "source": [
    "# Проверить данные на наличие пропусков и устранить их, если они есть (пропуски необходимо либо удалить, либо заменить каким-то значением).\n",
    "import numpy as np\n",
    "\n",
    "# Проверка пропусков\n",
    "missing_data = df.isna().sum()\n",
    "print(missing_data[missing_data > 0])\n",
    "\n",
    "if missing_data.any():\n",
    "    # Обработка числовых столбцов\n",
    "    numeric_cols = df.select_dtypes(include=[np.number]).columns\n",
    "    for col in numeric_cols:\n",
    "        if missing_data[col] > 0:\n",
    "            median_val = df[col].median()\n",
    "            df[col] = df[col].fillna(median_val)\n",
    "            print(f\"Заполнено {missing_data[col]} пропусков в числовом столбце '{col}' медианой: {median_val}\")\n",
    "    \n",
    "    # Обработка остальных столбцов\n",
    "    other_cols = df.columns.difference(numeric_cols)\n",
    "    for col in other_cols:\n",
    "        if missing_data[col] > 0:\n",
    "            # Для строковых/категориальных данных используем моду\n",
    "            if df[col].dtype == 'object':\n",
    "                mode_val = df[col].mode()[0]\n",
    "                df[col] = df[col].fillna(mode_val)\n",
    "                print(f\"Заполнено {missing_data[col]} пропусков в столбце '{col}' модой: '{mode_val}'\")\n",
    "            \n",
    "    remaining_missing = df.isna().sum().sum()\n",
    "    if remaining_missing == 0:\n",
    "        print(\"Все пропуски успешно обработаны!\")\n",
    "    else:\n",
    "        print(f\"\\nОсталось {remaining_missing} пропусков, требующих дополнительного анализа.\")\n",
    "        print(\"Столбцы с оставшимися пропусками:\")\n",
    "        print(df.isnull().sum()[df.isna().sum() > 0])\n",
    "else:\n",
    "    print(\"Пропуски в данных отсутствуют.\")"
   ]
  },
  {
   "cell_type": "code",
   "execution_count": 66,
   "metadata": {},
   "outputs": [
    {
     "name": "stdout",
     "output_type": "stream",
     "text": [
      "Пропуски в данных:\n",
      "Series([], dtype: int64)\n"
     ]
    }
   ],
   "source": [
    "missing_data = df.isna().sum()\n",
    "print(\"Пропуски в данных:\")\n",
    "print(missing_data[missing_data > 0])"
   ]
  },
  {
   "cell_type": "markdown",
   "metadata": {},
   "source": [
    "### Выбранные стратегии обработки пропусков:\n",
    "\n",
    "1. Заполнение числовых данных медианой:\n",
    "\n",
    "- Обоснование: Медиана более устойчива к выбросам, чем среднее значение\n",
    "- Преимущество: Сохраняет общее распределение данных без смещения в сторону экстремальных значений\n",
    "\n",
    "2. Заполнение категориальных данных модой:\n",
    "\n",
    "- Обоснование: Мода представляет наиболее часто встречающееся значение\n",
    "- Преимущество: Сохраняет исходное распределение категориальных переменных\n",
    "### Альтернативные методы\n",
    "1. Удаление строк с пропусками:\n",
    "\n",
    "- Недостаток: Потеря данных и возможное смещение выборки\n",
    "- Когда уместно: Только при малом количестве пропусков (<1%)\n",
    "\n",
    "2. Создание отдельной категории \"Unknown\":\n",
    "\n",
    "- Применимость: Для категориальных данных\n",
    "- Преимущество: Сохранение информации о наличии пропуска\n",
    "\n",
    "### Критерии выбора метода:\n",
    "- Процент пропущенных значений (<5% - заполнение, >30% - удаление столбца)\n",
    "- Тип данных (числовой/категориальный/временной)\n",
    "- Важность признака для дальнейшего анализа\n",
    "- Сохранение распределения и статистических свойств данных"
   ]
  },
  {
   "cell_type": "markdown",
   "metadata": {
    "id": "efZ7vgSVkPQH"
   },
   "source": [
    "\n",
    "---\n",
    "\n",
    "**Вы должны аргументировать на защите, почему были выполнены те или иные действия с пропусками, а также знать другие способы работы с пропусками, чтобы\n",
    " ответить на вопросы на защите.**\n",
    "\n",
    "\n",
    " ---"
   ]
  },
  {
   "cell_type": "markdown",
   "metadata": {
    "id": "kkyrXXHikEXk"
   },
   "source": [
    "### 4. Проверка дубликатов"
   ]
  },
  {
   "cell_type": "markdown",
   "metadata": {
    "id": "ImqHvr3okIQ6"
   },
   "source": [
    "#### Проверка явных дубликатов"
   ]
  },
  {
   "cell_type": "code",
   "execution_count": 67,
   "metadata": {
    "id": "qu1oh-e5lDZ1"
   },
   "outputs": [
    {
     "name": "stdout",
     "output_type": "stream",
     "text": [
      "Количество полных дубликатов в данных: 763\n"
     ]
    }
   ],
   "source": [
    "# Проверка на наличие явных дубликатов\n",
    "duplicates_count = df.duplicated().sum()\n",
    "print(f\"Количество полных дубликатов в данных: {duplicates_count}\")"
   ]
  },
  {
   "cell_type": "code",
   "execution_count": 68,
   "metadata": {
    "id": "ntArgvChkK26"
   },
   "outputs": [
    {
     "name": "stdout",
     "output_type": "stream",
     "text": [
      "Удалено 763 дубликатов.\n"
     ]
    }
   ],
   "source": [
    "# удалите дубликаты, если они есть\n",
    "if duplicates_count > 0:\n",
    "    df = df.drop_duplicates()\n",
    "    print(f\"Удалено {duplicates_count} дубликатов.\")"
   ]
  },
  {
   "cell_type": "markdown",
   "metadata": {
    "id": "VeHTMcOmkLSw"
   },
   "source": [
    "#### Проверка неявных дубликатов"
   ]
  },
  {
   "cell_type": "code",
   "execution_count": 69,
   "metadata": {
    "id": "-uOPKHlVlGo8"
   },
   "outputs": [
    {
     "name": "stdout",
     "output_type": "stream",
     "text": [
      "Категориальные столбцы для проверки неявных дубликатов:\n",
      "['car_name', 'fuel_type', 'seller_type', 'transmission', 'owner_type']\n",
      "\n",
      " Анализ столбца: car_name\n",
      "Уникальные значения и их частота:\n",
      "car_name\n",
      "Maruti Swift Dzire VDI                            54\n",
      "Maruti Alto 800 LXI                               48\n",
      "Maruti Alto LXi                                   42\n",
      "Maruti Alto LX                                    30\n",
      "Maruti Swift VDI BSIV                             28\n",
      "                                                  ..\n",
      "Mahindra Verito Vibe 1.5 dCi D6                    1\n",
      "Ford EcoSport 1.5 Petrol Titanium Plus AT BSIV     1\n",
      "Tata Harrier XE                                    1\n",
      "Hyundai Xcent 1.2 CRDi SX                          1\n",
      "Fiat Linea Emotion (Diesel)                        1\n",
      "Name: count, Length: 1492, dtype: int64\n",
      "\n",
      " Анализ столбца: fuel_type\n",
      "Уникальные значения и их частота:\n",
      "fuel_type\n",
      "Diesel      1801\n",
      "Petrol      1719\n",
      "CNG           37\n",
      "LPG           22\n",
      "Petroll        1\n",
      "Electric       1\n",
      "Name: count, dtype: int64\n",
      "\n",
      " Анализ столбца: seller_type\n",
      "Уникальные значения и их частота:\n",
      "seller_type\n",
      "Individual          2836\n",
      "Dealer               711\n",
      "Trustmark Dealer      33\n",
      "Dealeer                1\n",
      "Name: count, dtype: int64\n",
      "\n",
      " Анализ столбца: transmission\n",
      "Уникальные значения и их частота:\n",
      "transmission\n",
      "Manual       3269\n",
      "Automatic     312\n",
      "Name: count, dtype: int64\n",
      "\n",
      " Анализ столбца: owner_type\n",
      "Уникальные значения и их частота:\n",
      "owner_type\n",
      "First Owner             2220\n",
      "Second Owner             980\n",
      "Third Owner              289\n",
      "Fourth & Above Owner      75\n",
      "Test Drive Car            17\n",
      "Name: count, dtype: int64\n"
     ]
    }
   ],
   "source": [
    "# Проверка на наличие неявных дубликатов\n",
    "categorical_columns = df.select_dtypes(include=['object']).columns.tolist()\n",
    "\n",
    "print(\"Категориальные столбцы для проверки неявных дубликатов:\")\n",
    "print(categorical_columns)\n",
    "\n",
    "# Создаем словарь для хранения уникальных значений каждого категориального столбца\n",
    "unique_values = {}\n",
    "\n",
    "# Анализируем каждый категориальный столбец\n",
    "for column in categorical_columns:\n",
    "    print(f\"\\n Анализ столбца: {column}\")\n",
    "    print(\"Уникальные значения и их частота:\")\n",
    "    # Получаем частоту каждого значения\n",
    "    value_counts = df[column].value_counts()\n",
    "    print(value_counts)\n",
    "    \n",
    "    # Сохраняем уникальные значения для дальнейшего анализа\n",
    "    unique_values[column] = value_counts.index.tolist()\n",
    "    "
   ]
  },
  {
   "cell_type": "code",
   "execution_count": 70,
   "metadata": {
    "id": "89tMFEQ2k_M7"
   },
   "outputs": [
    {
     "name": "stdout",
     "output_type": "stream",
     "text": [
      "Исправление неявных дубликатов в столбце fuel_type:\n",
      "Исправлена опечатка: с 'Petroll' на 'Petrol'\n",
      "\n",
      "Обновленное распределение значений в fuel_type:\n",
      "fuel_type\n",
      "Diesel      1801\n",
      "Petrol      1720\n",
      "CNG           37\n",
      "LPG           22\n",
      "Electric       1\n",
      "Name: count, dtype: int64\n",
      "\n",
      "Исправление неявных дубликатов в столбце seller_type:\n",
      "Исправлена опечатка: с 'Dealeer' на 'Dealer'\n",
      "\n",
      "Обновленное распределение значений в seller_type:\n",
      "seller_type\n",
      "Individual          2836\n",
      "Dealer               712\n",
      "Trustmark Dealer      33\n",
      "Name: count, dtype: int64\n"
     ]
    }
   ],
   "source": [
    "# Создаем копию DataFrame для безопасного изменения\n",
    "df_clean = df.copy()\n",
    "\n",
    "# Исправление неявных дубликатов в столбце fuel_type\n",
    "print(\"Исправление неявных дубликатов в столбце fuel_type:\")\n",
    "\n",
    "# Заменяем 'Petroll' на 'Petrol' с использованием replace\n",
    "df_clean['fuel_type'] = df['fuel_type'].replace('Petroll', 'Petrol')\n",
    "print(\"Исправлена опечатка: с 'Petroll' на 'Petrol'\")\n",
    "\n",
    "# Проверяем результат\n",
    "print(\"\\nОбновленное распределение значений в fuel_type:\")\n",
    "print(df_clean['fuel_type'].value_counts())\n",
    "\n",
    "# Исправление неявных дубликатов в столбце seller_type\n",
    "print(\"\\nИсправление неявных дубликатов в столбце seller_type:\")\n",
    "\n",
    "# Заменяем 'Dealeer' на 'Dealer' с использованием replace\n",
    "df_clean['seller_type'] = df['seller_type'].replace('Dealeer', 'Dealer')\n",
    "print(\"Исправлена опечатка: с 'Dealeer' на 'Dealer'\")\n",
    "\n",
    "# Проверяем результат\n",
    "print(\"\\nОбновленное распределение значений в seller_type:\")\n",
    "print(df_clean['seller_type'].value_counts())\n",
    "\n",
    "# Теперь присваиваем очищенный DataFrame обратно в df\n",
    "df = df_clean"
   ]
  },
  {
   "cell_type": "code",
   "execution_count": 71,
   "metadata": {},
   "outputs": [
    {
     "name": "stdout",
     "output_type": "stream",
     "text": [
      "Количество неявных дубликатов: 10\n",
      "\n",
      "Примеры неявных дубликатов:\n",
      "                            car_name  release_year  selling_price  \\\n",
      "8           Hyundai Creta 1.6 VTVT S          2015   850000.00000   \n",
      "21          Hyundai Creta 1.6 VTVT S          2015   850000.00000   \n",
      "487   Mahindra Bolero DI DX 7 Seater          2007   225000.00000   \n",
      "1315  Mahindra Bolero DI DX 7 Seater          2007   225000.00000   \n",
      "1364                 Maruti Alto LXi          2007   100000.00000   \n",
      "3804                 Maruti Alto LXi          2007   100000.00000   \n",
      "1969                 Maruti Ritz VDi          2011   200000.00000   \n",
      "4291                 Maruti Ritz VDi          2011   200000.00000   \n",
      "2468        Maruti Wagon R VXI BS IV          2014   210000.00000   \n",
      "2469        Maruti Wagon R VXI BS IV          2014   210000.00000   \n",
      "\n",
      "        km_driven fuel_type seller_type transmission    owner_type  \n",
      "8     25000.00000    Petrol  Individual       Manual   First Owner  \n",
      "21    25000.00000    Petrol  Individual       Manual   First Owner  \n",
      "487  120000.00000    Diesel  Individual       Manual   First Owner  \n",
      "1315 120000.00000    Diesel  Individual       Manual  Second Owner  \n",
      "1364  70000.00000    Petrol  Individual       Manual  Second Owner  \n",
      "3804  70000.00000    Petrol  Individual       Manual   First Owner  \n",
      "1969 120000.00000    Diesel  Individual       Manual   First Owner  \n",
      "4291 120000.00000    Diesel  Individual       Manual  Second Owner  \n",
      "2468  70000.00000    Petrol  Individual       Manual  Second Owner  \n",
      "2469  70000.00000    Petrol  Individual       Manual   Third Owner  \n",
      "<class 'pandas.core.frame.DataFrame'>\n",
      "RangeIndex: 3576 entries, 0 to 3575\n",
      "Data columns (total 8 columns):\n",
      " #   Column         Non-Null Count  Dtype  \n",
      "---  ------         --------------  -----  \n",
      " 0   car_name       3576 non-null   object \n",
      " 1   release_year   3576 non-null   int64  \n",
      " 2   selling_price  3576 non-null   float64\n",
      " 3   km_driven      3576 non-null   float64\n",
      " 4   fuel_type      3576 non-null   object \n",
      " 5   seller_type    3576 non-null   object \n",
      " 6   transmission   3576 non-null   object \n",
      " 7   owner_type     3576 non-null   object \n",
      "dtypes: float64(2), int64(1), object(5)\n",
      "memory usage: 223.6+ KB\n",
      "None\n"
     ]
    }
   ],
   "source": [
    "# удалите дубликаты, если они есть\n",
    "subset_columns = ['car_name', 'release_year', 'selling_price', 'km_driven', 'fuel_type', 'transmission',]\n",
    "implicit_duplicates = df.duplicated(subset=subset_columns, keep=False)\n",
    "\n",
    "# Количество неявных дубликатов\n",
    "duplicate_count = implicit_duplicates.sum()\n",
    "print(f\"Количество неявных дубликатов: {duplicate_count}\")\n",
    "\n",
    "# Примеры неявных дубликатов (если они есть)\n",
    "if duplicate_count > 0:\n",
    "    print(\"\\nПримеры неявных дубликатов:\")\n",
    "    print(df[implicit_duplicates].sort_values(by=subset_columns).head(duplicate_count))\n",
    "df = df.drop_duplicates(subset=subset_columns, ignore_index=True)\n",
    "print(df.info())\n"
   ]
  },
  {
   "cell_type": "markdown",
   "metadata": {},
   "source": [
    "### Выбор ключевых признаков:\n",
    "\n",
    "Код использует подмножество столбцов: ['car_name', 'release_year', 'selling_price', 'km_driven', 'fuel_type', 'transmission']\n",
    "\n",
    "Эти поля выбраны как комбинация, которая с высокой вероятностью должна быть уникальной для каждой машины\n",
    "Поиск дубликатов:\n",
    "\n",
    "- Метод df.duplicated(subset=subset_columns, keep=False) находит все строки, где комбинация указанных столбцов совпадает\n",
    "- Параметр keep=False помечает все дубликаты (а не только вторые и последующие вхождения)\n",
    "#### Анализ результатов:\n",
    "\n",
    "- Подсчитывается количество неявных дубликатов\n",
    "- При наличии дубликатов выводятся примеры для визуальной проверки\n",
    "\n",
    "Также стоит омтетить, что записи не являются полными копиями (различаются в других столбцах), но совпадают по ключевым идентифицирующим признакам"
   ]
  },
  {
   "cell_type": "markdown",
   "metadata": {
    "id": "GMcnDpOmlKhU"
   },
   "source": [
    "---\n",
    "\n",
    "**Вы должны аргументировать на защите, почему были выполнены те или иные действия с дубликатами, знать, что такое явные и неявные дубликаты и способы работы с ними, чтобы ответить на вопросы на защите.**\n",
    "\n",
    "\n",
    " ---"
   ]
  },
  {
   "cell_type": "markdown",
   "metadata": {
    "id": "md9GhfYMlbi7"
   },
   "source": [
    "### 5. Провека типов данных"
   ]
  },
  {
   "cell_type": "code",
   "execution_count": 72,
   "metadata": {
    "id": "lXTroENaluCW"
   },
   "outputs": [
    {
     "data": {
      "text/plain": [
       "car_name          object\n",
       "release_year       int64\n",
       "selling_price    float64\n",
       "km_driven        float64\n",
       "fuel_type         object\n",
       "seller_type       object\n",
       "transmission      object\n",
       "owner_type        object\n",
       "dtype: object"
      ]
     },
     "execution_count": 72,
     "metadata": {},
     "output_type": "execute_result"
    }
   ],
   "source": [
    "df.dtypes"
   ]
  },
  {
   "cell_type": "code",
   "execution_count": 73,
   "metadata": {
    "id": "WXhXgu29lop3"
   },
   "outputs": [
    {
     "name": "stdout",
     "output_type": "stream",
     "text": [
      "Итоговые типы данных:\n",
      "car_name          object\n",
      "release_year       int64\n",
      "selling_price    float64\n",
      "km_driven        float64\n",
      "fuel_type         object\n",
      "seller_type       object\n",
      "transmission      object\n",
      "owner_type        object\n",
      "dtype: object\n"
     ]
    }
   ],
   "source": [
    "# Проверьте типы данных, при необходимости измените типы данных, чтобы они соответствовали действительности.\n",
    "# Проверяем целочисленность и конвертируем столбцы с количественными данными\n",
    "for col in ['selling_price', 'km_driven']:\n",
    "    # Используем .loc для явного изменения столбцов\n",
    "    if (df[col] % 1 == 0).all():\n",
    "        df.loc[:, col] = df[col].astype('int64')\n",
    "\n",
    "# Список категориальных столбцов\n",
    "categorical_columns = ['fuel_type', 'seller_type', 'transmission', 'owner_type']\n",
    "# Конвертируем категориальные столбцы\n",
    "for col in categorical_columns:\n",
    "    # Используем .loc для явного изменения столбцов\n",
    "    df.loc[:, col] = df[col].astype('category')\n",
    "\n",
    "print(\"Итоговые типы данных:\")\n",
    "print(df.dtypes)\n"
   ]
  },
  {
   "cell_type": "markdown",
   "metadata": {},
   "source": [
    "Столбцы selling_price и km_driven указаны как float64, но при просмотре данных видно, что цены указаны только в рублях, без копеек а пройденные километры также только в целочисленном виде, эти столбцы были преобразованы в тип int64. Для категориальных признаков fuel_type, seller_type, transmission и owner_type текущий тип object не оптимален: данные в этих столбцах содержат ограниченный набор значений (например, Manual, Automatic), поэтому их необходимо перевести в тип category для экономии памяти и ускорения операций группировки."
   ]
  },
  {
   "cell_type": "markdown",
   "metadata": {
    "id": "DPDBNN4dlx7W"
   },
   "source": [
    "---\n",
    "\n",
    "**Обратите внимание, что во всех вариантах необходимо сделать приведение типов. Будьте готовы на защите аргументировать проверку типов (почему выполнены те или иные преобразования).**\n",
    "\n",
    "\n",
    " ---"
   ]
  },
  {
   "cell_type": "markdown",
   "metadata": {
    "id": "lzr0SgqlnmHy"
   },
   "source": [
    "### 6. Группировка данных"
   ]
  },
  {
   "cell_type": "markdown",
   "metadata": {
    "id": "QG_dbwzfmZoS"
   },
   "source": [
    "#### Задание 1"
   ]
  },
  {
   "cell_type": "markdown",
   "metadata": {
    "id": "CyCKTB4DmciW"
   },
   "source": [
    "*`Группировка - тип коробки передач (transmission) по количеству\n",
    "разных типов топлива (fuel)`*"
   ]
  },
  {
   "cell_type": "code",
   "execution_count": 74,
   "metadata": {
    "id": "tp8Bl1gumYlI"
   },
   "outputs": [
    {
     "name": "stdout",
     "output_type": "stream",
     "text": [
      "transmission  fuel_type\n",
      "Automatic     Diesel        170\n",
      "              Petrol        141\n",
      "              Electric        1\n",
      "Manual        Diesel       1629\n",
      "              Petrol       1576\n",
      "              CNG            37\n",
      "              LPG            22\n",
      "Name: count, dtype: int64\n"
     ]
    }
   ],
   "source": [
    "# выполните группировку согласно варианту\n",
    "transmission_fuel_counts = df.groupby('transmission')['fuel_type'].value_counts()\n",
    "print(transmission_fuel_counts)"
   ]
  },
  {
   "cell_type": "markdown",
   "metadata": {
    "id": "jLmhNuq0mms3"
   },
   "source": [
    "**`Сделайте вывод - интерпретацию - что можно увидеть из результата данной группировки?`**\n",
    "\n",
    "В результате группировки данных видно, что в изначальном датасете сильно преобладают машины с механической коробкой передач. Электромобили крайне редки и представлены только с коробкой-автомат на механике таких машин нет. В свою очередь на автоматической коробке передач нет машин, которые едут на газу (типы LPG и CNG). Большинство машин едут на дизеле и бензине, пропорция машин на таких видах топлива довольно схожа, что на автоматической, что на механической коробках передач, но все же на автоматических заметно небольшое преобладание дизельных автомобилей."
   ]
  },
  {
   "cell_type": "markdown",
   "metadata": {
    "id": "quMr70SmnMXS"
   },
   "source": [
    "---\n",
    "\n",
    "**Обратите внимание, что на защите вы должны ориентироваться в синтаксисе. При необходимости нужно быть готовым изменить код по просьбе преподавателя. Например, вместо среднего значения подсчитать медиану и т.д.**\n",
    "\n",
    "\n",
    " ---"
   ]
  },
  {
   "cell_type": "markdown",
   "metadata": {
    "id": "j0isGCzEne7a"
   },
   "source": [
    "#### Задание 2"
   ]
  },
  {
   "cell_type": "markdown",
   "metadata": {
    "id": "kE2vLBWbne7a"
   },
   "source": [
    "*`Группировка - тип владельца (owner) по количеству разных коробок\n",
    "передач (transmission). Создать датафрейм. Переименовать столбец с\n",
    "количеством в “сount”. Отсортировать по убыванию столбца “count”`*"
   ]
  },
  {
   "cell_type": "code",
   "execution_count": 75,
   "metadata": {
    "id": "ttn78Zaene7a"
   },
   "outputs": [
    {
     "name": "stdout",
     "output_type": "stream",
     "text": [
      "             owner_type transmission  count\n",
      "0           First Owner       Manual   1991\n",
      "4          Second Owner       Manual    914\n",
      "8           Third Owner       Manual    270\n",
      "1           First Owner    Automatic    227\n",
      "2  Fourth & Above Owner       Manual     73\n",
      "5          Second Owner    Automatic     64\n",
      "9           Third Owner    Automatic     18\n",
      "6        Test Drive Car       Manual     16\n",
      "3  Fourth & Above Owner    Automatic      2\n",
      "7        Test Drive Car    Automatic      1\n"
     ]
    }
   ],
   "source": [
    "# выполните группировку согласно варианту\n",
    "# Группировка по 'owner' и подсчет 'transmission'\n",
    "owner_transmission_counts = df.groupby('owner_type')['transmission'].value_counts().reset_index(name='count')\n",
    "\n",
    "\n",
    "# Сортировка по убыванию столбца 'count'\n",
    "owner_transmission_counts_sorted = owner_transmission_counts.sort_values(by='count', ascending=False)\n",
    "print(owner_transmission_counts_sorted)"
   ]
  },
  {
   "cell_type": "markdown",
   "metadata": {
    "id": "HCyyeAu6ne7a"
   },
   "source": [
    "**`Сделайте вывод - интерпретацию - что можно увидеть из результата данной группировки?`**\n",
    "\n",
    "Большинство автомобилей в этой выборке имеют механическую коробку передач, особенно среди первых и вторых владельцев. Три верхние позиции по количеству занимают автомобили с механической коробкой. Количество автомобилей значительно уменьшается по мере увеличения числа предыдущих владельцев. Это ожидаемо, так как чем больше владельцев, тем меньше таких автомобилей на рынке. Также отдельно видно, что машин на тест-драйв очень мало и абсолютное большинство из них с автоматической коробкой передач."
   ]
  },
  {
   "cell_type": "markdown",
   "metadata": {
    "id": "NKLZ0m7Nne7b"
   },
   "source": [
    "---\n",
    "\n",
    "**Обратите внимание, что на защите вы должны ориентироваться в синтаксисе. При необходимости нужно быть готовым изменить код по просьбе преподавателя. Например, вместо среднего значения подсчитать медиану и т.д.**\n",
    "\n",
    "\n",
    " ---"
   ]
  },
  {
   "cell_type": "markdown",
   "metadata": {
    "id": "_3fHGp64nhUJ"
   },
   "source": [
    "#### Задание 3"
   ]
  },
  {
   "cell_type": "markdown",
   "metadata": {
    "id": "_Bc4ehyKnhUJ"
   },
   "source": [
    "*`Сводная таблица (pivot_table) - средняя стоимость для каждого года\n",
    "year. Отсортировать по убыванию. Округлить до трёх знаков.`*"
   ]
  },
  {
   "cell_type": "code",
   "execution_count": null,
   "metadata": {
    "id": "siDovPvQnhUJ"
   },
   "outputs": [
    {
     "name": "stdout",
     "output_type": "stream",
     "text": [
      "              selling_price\n",
      "release_year               \n",
      "2019           865364.16700\n",
      "2018           820420.30500\n",
      "2020           804844.40000\n",
      "2017           740057.59400\n",
      "2016           638342.70700\n",
      "2014           512943.87900\n",
      "2015           510051.16000\n",
      "2013           433046.28500\n",
      "2012           379352.02700\n",
      "2011           296418.65000\n",
      "2010           275936.88600\n",
      "2009           235467.42000\n",
      "1996           225000.00000\n",
      "2008           177668.17100\n",
      "2007           165330.42600\n",
      "1998           165111.11100\n",
      "2006           154182.76300\n",
      "2004           126697.34200\n",
      "2005           114821.44300\n",
      "2001           109562.43800\n",
      "1995            95000.00000\n",
      "1997            93000.00000\n",
      "2003            87090.90900\n",
      "2002            86111.11100\n",
      "2000            81500.00000\n",
      "1999            73888.88900\n",
      "1992            50000.00000\n"
     ]
    }
   ],
   "source": [
    "# выполните сводную таблицу согласно варианту\n",
    "data_pivot = df.pivot_table(index=['release_year'], values='selling_price', aggfunc='mean')\n",
    "\n",
    "# Сортировка и округление сводной таблицы\n",
    "data_pivot = data_pivot.sort_values(by='selling_price', ascending=False)\n",
    "data_pivot['selling_price'] = data_pivot['selling_price'].round(3)\n",
    "print(data_pivot)"
   ]
  },
  {
   "cell_type": "markdown",
   "metadata": {
    "id": "1-vw8iyUnhUK"
   },
   "source": [
    "**`Сделайте вывод - интерпретацию - что можно увидеть из результата данной сводной таблицы?`**\n",
    "\n",
    "В этих данных наблюдается четкая тенденция к росту цен с уменьшением возраста. Чем новее год выпуска, тем выше средняя цена продажи. Все данные можно разбить на 3 периода: новые, средние и старые.\n",
    "\n",
    "Годы 2018–2020 имеют среднюю цену выше 800000. Годы 2009–2017 находятся в диапазоне от 235000 до 740000. Годы до 2009 (за исключением 1996) имеют среднюю цену значительно ниже 200000.\n",
    "\n",
    "Заметен значительный разрыв между новыми и старыми машинами: существует резкий переход в цене. Машины, выпущенные после 2009 года, в среднем значительно дороже тех, что были выпущены до 2009 года.\n",
    "\n",
    "Также видна аномалия 1996 года, он выделяется из общего тренда. Его средняя цена (225000) необычно высока для своего возраста и даже превосходит многие более новые годы. Ожидаемо, самые низкие средние цены наблюдаются у товаров, выпущенных в девяностых и начале двухтысячных годов.\n"
   ]
  },
  {
   "cell_type": "markdown",
   "metadata": {
    "id": "wKFm0zDenhUK"
   },
   "source": [
    "---\n",
    "\n",
    "**Обратите внимание, что на защите вы должны ориентироваться в синтаксисе. При необходимости нужно быть готовым изменить код по просьбе преподавателя. Например, вместо среднего значения подсчитать медиану и т.д.**\n",
    "\n",
    "\n",
    " ---"
   ]
  },
  {
   "cell_type": "markdown",
   "metadata": {
    "id": "FOlw74xCniNo"
   },
   "source": [
    "#### Задание 4"
   ]
  },
  {
   "cell_type": "markdown",
   "metadata": {
    "id": "4tvYwT25niNq"
   },
   "source": [
    "*`Сводная таблица (pivot_table) - среднее цена для каждого типа\n",
    "владельца - столбцы и типа продавца- строки. Отсортировать по возрастанию\n",
    "seller_type. Округлить до двух знаков.`*"
   ]
  },
  {
   "cell_type": "code",
   "execution_count": null,
   "metadata": {
    "id": "TfJ719g6niNq"
   },
   "outputs": [
    {
     "name": "stdout",
     "output_type": "stream",
     "text": [
      "owner_type        First Owner  Fourth & Above Owner  Second Owner  \\\n",
      "seller_type                                                         \n",
      "Dealer           679505.08000          117499.50000  468499.94000   \n",
      "Individual       518769.48000          182958.88000  326973.98000   \n",
      "Trustmark Dealer 823709.68000                   NaN  800000.00000   \n",
      "\n",
      "owner_type        Test Drive Car  Third Owner  \n",
      "seller_type                                    \n",
      "Dealer              954293.94000 462333.22000  \n",
      "Individual                   NaN 260014.69000  \n",
      "Trustmark Dealer             NaN          NaN  \n"
     ]
    }
   ],
   "source": [
    "# выполните сводную таблицу согласно варианту\n",
    "pivot_table = df.pivot_table(index=['seller_type'], columns='owner_type', values='selling_price', aggfunc='mean')\n",
    "\n",
    "#Сортировка и округление сводной таблицы\n",
    "pivot_table = pivot_table.sort_index(ascending=True)\n",
    "pivot_table = pivot_table.round(2)\n",
    "print(pivot_table)"
   ]
  },
  {
   "cell_type": "markdown",
   "metadata": {
    "id": "yqJqvk5qniNr"
   },
   "source": [
    "**`Сделайте вывод - интерпретацию - что можно увидеть из результата выполнения данного кода?`**\n",
    "\n",
    "Автомобили от первого владельца, как правило, имеют самую высокую среднюю стоимость продажи среди всех категорий. Это логично, так как такие автомобили обычно новее и находятся в лучшем состоянии. \n",
    "\n",
    "Автомобили, у которых было четыре или более владельцев, имеют значительно более низкую среднюю стоимость продажи. Это ожидаемо, так как такие автомобили, вероятно, старше и/или имеют больший износ. Средняя цена для тестовых автомобилей, продаваемых дилерами, очень высока (954293). Это может указывать на то, что это были почти новые модели или модели высокого класса.\n",
    "\n",
    " В среднем самые высокие цены у Trustmark дилеров, далее идут обычные дилеры, у которых тоже дорогие машины и затем индивидуальные продавцы, у которых самые низкие цены. \n",
    " \n",
    " Видно, что trustmark дилеры продают только автомобили с одним или двумя владельцами, а тест-драйв машины продают только обычные дилеры."
   ]
  },
  {
   "cell_type": "markdown",
   "metadata": {
    "id": "tIkuqJKUniNs"
   },
   "source": [
    "---\n",
    "\n",
    "**Обратите внимание, что на защите вы должны ориентироваться в синтаксисе. При необходимости нужно быть готовым изменить код по просьбе преподавателя. Например, вместо среднего значения подсчитать медиану и т.д.**\n",
    "\n",
    "\n",
    " ---"
   ]
  },
  {
   "cell_type": "markdown",
   "metadata": {
    "id": "TpnXb6gip3S8"
   },
   "source": [
    "### Вывод"
   ]
  },
  {
   "cell_type": "markdown",
   "metadata": {
    "id": "nqLa096jM1Z8"
   },
   "source": [
    "\n",
    "***`Сделать расширенный вывод. `***\n",
    "\n",
    " В ходе выполнения лабораторной работы был проведен предварительный анализ и предобработка набора данных auto.csv, содержащего информацию о поддержанных автомобилях, выставленных на продажу.\n",
    "\n",
    "#### На этапе предобработки данных были выполнены следующие шаги:\n",
    "Стандартизация названий столбцов: все названия были приведены к единому стилю. Обработка пропусков: Пропущенные значения в числовых столбцах были заменены медианными значениями, а в категориальных данных были заменены модой. Удаление дубликатов: были устранены как полные, так и неявные дубликаты. Была проведена оптимизация типов данных\n",
    "#### Анализ данных с помощью группировок и сводных таблиц позволил сделать следующие выводы:\n",
    "-\tНа рынке преобладают автомобили с механической коробкой передач, особенно среди машин с одним или двумя владельцами. Автомобили на газу (LPG/CNG) представлены только с механической коробкой передач, в то время как немногочисленные электромобили — только с автоматической.\n",
    "-\tСуществует прямая зависимость между годом выпуска автомобиля и его средней ценой: чем новее автомобиль, тем он дороже. Наблюдается заметный скачок цен для автомобилей, выпущенных после 2009 года (не считая аномалию 1996 года). \n",
    "-\tКоличество предыдущих владельцев и тип продавца значительно влияют на стоимость. Наиболее дорогие автомобили продаются дилерами категории \"Trustmark\" и имеют не более двух владельцев. Самые низкие цены у частных продавцов.\n",
    "\n"
   ]
  },
  {
   "cell_type": "markdown",
   "metadata": {
    "id": "Sn3y7og_vjGG"
   },
   "source": [
    "### Дополнительное задание"
   ]
  },
  {
   "cell_type": "markdown",
   "metadata": {
    "id": "rR6WgHXYvlqD"
   },
   "source": [
    "**`Подробная формулировка задания`**\n",
    "\n",
    "Задание 10. Создать столбец “Категория стоимости (price)” (с помощью категоризации).\n",
    "Выделить минимум 3 категории (низкая, высокая, средняя), фильтрацию для\n",
    "уровня цены выбрать самостоятельно, аргументировать выбор. Создать\n",
    "сводную таблицу: средняя и медианная price по категории цены и seller_type."
   ]
  },
  {
   "cell_type": "code",
   "execution_count": 78,
   "metadata": {
    "id": "wG5TGQpevlBq"
   },
   "outputs": [
    {
     "name": "stdout",
     "output_type": "stream",
     "text": [
      "                                         mean        median\n",
      "                                selling_price selling_price\n",
      "category_price seller_type                                 \n",
      "Высокая        Dealer           1030613.06250  750000.00000\n",
      "               Individual        893992.18807  710000.00000\n",
      "               Trustmark Dealer  937115.38462  765000.00000\n",
      "Низкая         Dealer            187641.61667  200000.00000\n",
      "               Individual        151816.96388  150000.00000\n",
      "Средняя        Dealer            374683.52734  375000.00000\n",
      "               Individual        369678.88216  350000.00000\n",
      "               Trustmark Dealer  395714.28571  415000.00000\n"
     ]
    },
    {
     "name": "stderr",
     "output_type": "stream",
     "text": [
      "C:\\Users\\fedor\\AppData\\Local\\Temp\\ipykernel_10244\\3911402283.py:17: SettingWithCopyWarning: \n",
      "A value is trying to be set on a copy of a slice from a DataFrame.\n",
      "Try using .loc[row_indexer,col_indexer] = value instead\n",
      "\n",
      "See the caveats in the documentation: https://pandas.pydata.org/pandas-docs/stable/user_guide/indexing.html#returning-a-view-versus-a-copy\n",
      "  df['category_price'] = df['selling_price'].apply(get_category_selling_price)\n"
     ]
    }
   ],
   "source": [
    "# код выполнения задания 10\n",
    "\n",
    "# Объявление границ для разделения на категории\n",
    "low = 250000\n",
    "high = 509000\n",
    "\n",
    "# Функция для присвоения категории \n",
    "def get_category_selling_price(selling_price):\n",
    "    if selling_price <= low:\n",
    "        return 'Низкая'\n",
    "    elif selling_price <= high:\n",
    "        return 'Средняя'\n",
    "    else:\n",
    "        return 'Высокая'\n",
    "\n",
    "# Создание столбца с типом категории\n",
    "df['category_price'] = df['selling_price'].apply(get_category_selling_price)\n",
    "# Сводная таблица\n",
    "pivot_table =  df.pivot_table(index=['category_price', 'seller_type'], values='selling_price', aggfunc=['mean', 'median'])\n",
    "\n",
    "print(pivot_table)"
   ]
  },
  {
   "cell_type": "markdown",
   "metadata": {},
   "source": [
    "#### Вывод по заданию 10\n",
    "\n",
    "При выделении категорий цен я брал за основу показатели по квантелям на треть, получилось что низкая стоимость до 250000, средняя от 250000 до 509000 и высокая более 509000\n",
    "\n",
    "- Заметны выбросы в \"Высокой\" категории, средняя цена значительно превышает медианную, что указывает на наличие очень дорогих автомобилей (выбросов), искажающих среднее значение.\n",
    "\n",
    "- В то же время в \"Низкой\" и \"Средней\" категориях средняя и медианная цены близки, что говорит о более равномерном распределении цен.\n",
    "- Профессиональные продавцы (Dealer, Trustmark Dealer) доминируют в сегменте дорогих автомобилей и предлагают более высокие цены в целом.\n",
    "- Частные продавцы (Individual) предлагают более доступные варианты, особенно в низком и среднем ценовых сегментах."
   ]
  },
  {
   "cell_type": "markdown",
   "metadata": {},
   "source": [
    "**`Подробная формулировка задания`**\n",
    "\n",
    "Задание 1. Создать столбец “Категория пробега (kmdriven)” (с помощью категоризации).\n",
    "Выделить минимум 3 категории (маленький, большой, средний), фильтрацию\n",
    "для уровня пробега выбрать самостоятельно, аргументировать выбор. Создать\n",
    "сводную таблицу: средний и медианный пробег по категории пробега и типу\n",
    "топлива"
   ]
  },
  {
   "cell_type": "code",
   "execution_count": 79,
   "metadata": {},
   "outputs": [
    {
     "name": "stdout",
     "output_type": "stream",
     "text": [
      "                                   mean       median\n",
      "                              km_driven    km_driven\n",
      "category_mileage fuel_type                          \n",
      "Большой          CNG       100583.44444 100000.00000\n",
      "                 Diesel    125372.09873 111099.00000\n",
      "                 LPG       113661.53846 100000.00000\n",
      "                 Petrol    111704.77814 100000.00000\n",
      "Маленький        CNG        20012.50000  12050.00000\n",
      "                 Diesel     27549.40355  30000.00000\n",
      "                 LPG        32000.00000  32000.00000\n",
      "                 Petrol     24222.21521  25000.00000\n",
      "Средний          CNG        69851.95000  70500.00000\n",
      "                 Diesel     65015.82439  65000.00000\n",
      "                 Electric   62000.00000  62000.00000\n",
      "                 LPG        61428.57143  60000.00000\n",
      "                 Petrol     62783.22540  60000.00000\n"
     ]
    },
    {
     "name": "stderr",
     "output_type": "stream",
     "text": [
      "C:\\Users\\fedor\\AppData\\Local\\Temp\\ipykernel_10244\\1725593572.py:21: SettingWithCopyWarning: \n",
      "A value is trying to be set on a copy of a slice from a DataFrame.\n",
      "Try using .loc[row_indexer,col_indexer] = value instead\n",
      "\n",
      "See the caveats in the documentation: https://pandas.pydata.org/pandas-docs/stable/user_guide/indexing.html#returning-a-view-versus-a-copy\n",
      "  df['category_mileage'] = df['km_driven'].apply(get_category_mileage)\n"
     ]
    }
   ],
   "source": [
    "# код выполнения задания 1\n",
    "\n",
    "# Объявление границ для разделения на категории\n",
    "# Способ с квантилями\n",
    "low = df['km_driven'].quantile(0.33)\n",
    "high = df['km_driven'].quantile(0.67)\n",
    "# Способ через ручной ввод\n",
    "# low = 50000\n",
    "# high = 150000\n",
    "\n",
    "# Функция для присвоения категории \n",
    "def get_category_mileage(km):\n",
    "    if km <= low:\n",
    "        return 'Маленький'\n",
    "    elif km <= high:\n",
    "        return 'Средний'\n",
    "    else:\n",
    "        return 'Большой'\n",
    "\n",
    "# Создание столбца с типом категории\n",
    "df['category_mileage'] = df['km_driven'].apply(get_category_mileage)\n",
    "# Сводная таблица\n",
    "pivot_table =  df.pivot_table(index=['category_mileage', 'fuel_type'], values='km_driven', aggfunc=['mean', 'median'])\n",
    "\n",
    "print(pivot_table)"
   ]
  },
  {
   "cell_type": "markdown",
   "metadata": {},
   "source": [
    "#### Вывод по заданию 1\n",
    "\n",
    "Была выбрана фильтрация с использованием квантилей и разделение мна 3 равные части, но в этом случае можно использовать и ручное разделение, если есть представление о том, когда у машины уже высокий или еще низкий пробег. Так как я не разбираюсь в теме было решено выбрать разделение с помощью квантилей.\n",
    "\n",
    "Видна стабильность распределения. Средний и медианный пробег очень близки во всех категориях и для большинства видов топлива, что указывает на равномерное распределение данных без значительных выбросов (за исключением низкой категории с топливом CNG там разница весьма заметна)\n",
    "\n",
    "- Дизельные автомобили имеют самый высокий пробег в категории \"Большой\", это подтверждает их использование для длительных поездок, например для фур, которые возят грузы.\n",
    "- Электромобили представлены только в \"Средней\" категории, это говорит об их относительной новизне на рынке подержанных авто\n",
    "- Другие типы топлива показывают схожие пробеги в пределах своих категорий."
   ]
  },
  {
   "cell_type": "markdown",
   "metadata": {},
   "source": [
    "**`Подробная формулировка задания`**\n",
    "\n",
    "Задание 19. Создать столбец “Категория года (year)” (с помощью категоризации).\n",
    "Выделить минимум 3 категории (старая, новая, средняя), фильтрацию для года\n",
    "выбрать самостоятельно, аргументировать выбор. Создать столбец “Категория\n",
    "стоимости (price)” (с помощью категоризации). Выделить минимум 3\n",
    "категории (низкая, высокая, средняя), фильтрацию для уровня цены выбрать\n",
    "самостоятельно, аргументировать выбор. Создать сводную таблицу: средний,\n",
    "медианный пробег по категории года и категории стоимости.\n"
   ]
  },
  {
   "cell_type": "code",
   "execution_count": 80,
   "metadata": {},
   "outputs": [
    {
     "name": "stdout",
     "output_type": "stream",
     "text": [
      "                                     mean       median\n",
      "                                km_driven    km_driven\n",
      "category_price category_year                          \n",
      "Высокая        Новая          32048.08870  25000.00000\n",
      "               Средняя        77406.81667  70000.00000\n",
      "               Старая         91041.10526  80000.00000\n",
      "Низкая         Новая          34220.88889  30000.00000\n",
      "               Средняя        77056.55466  70000.00000\n",
      "               Старая         89595.78057  80000.00000\n",
      "Средняя        Новая          30986.31092  25000.00000\n",
      "               Средняя        76735.89850  70000.00000\n",
      "               Старая        109237.96341 100000.00000\n"
     ]
    },
    {
     "name": "stderr",
     "output_type": "stream",
     "text": [
      "C:\\Users\\fedor\\AppData\\Local\\Temp\\ipykernel_10244\\2995676120.py:30: SettingWithCopyWarning: \n",
      "A value is trying to be set on a copy of a slice from a DataFrame.\n",
      "Try using .loc[row_indexer,col_indexer] = value instead\n",
      "\n",
      "See the caveats in the documentation: https://pandas.pydata.org/pandas-docs/stable/user_guide/indexing.html#returning-a-view-versus-a-copy\n",
      "  df['category_price'] = df['selling_price'].apply(get_category_selling)\n",
      "C:\\Users\\fedor\\AppData\\Local\\Temp\\ipykernel_10244\\2995676120.py:31: SettingWithCopyWarning: \n",
      "A value is trying to be set on a copy of a slice from a DataFrame.\n",
      "Try using .loc[row_indexer,col_indexer] = value instead\n",
      "\n",
      "See the caveats in the documentation: https://pandas.pydata.org/pandas-docs/stable/user_guide/indexing.html#returning-a-view-versus-a-copy\n",
      "  df['category_year'] = df['release_year'].apply(get_category_year)\n"
     ]
    }
   ],
   "source": [
    "# код выполнения задания 19\n",
    "\n",
    "# Объявление границ для разделения на категории\n",
    "# Способ через ручной ввод\n",
    "low_year = 2009\n",
    "high_year = 2016\n",
    "\n",
    "low_selling = df['selling_price'].quantile(0.33)\n",
    "high_selling = df['selling_price'].quantile(0.67)\n",
    "\n",
    "# Функция для присвоения категории \n",
    "def get_category_selling(selling_price):\n",
    "    if selling_price <= low_selling:\n",
    "        return 'Низкая'\n",
    "    elif selling_price <= high_selling:\n",
    "        return 'Средняя'\n",
    "    else:\n",
    "        return 'Высокая'\n",
    "    \n",
    "# Функция для присвоения категории \n",
    "def get_category_year(year):\n",
    "    if year <= low_year:\n",
    "        return 'Старая'\n",
    "    elif year <= high_year:\n",
    "        return 'Средняя'\n",
    "    else:\n",
    "        return 'Новая'\n",
    "\n",
    "# Создание столбцов с типом категории\n",
    "df['category_price'] = df['selling_price'].apply(get_category_selling)\n",
    "df['category_year'] = df['release_year'].apply(get_category_year)\n",
    "\n",
    "# Сводная таблица\n",
    "pivot_table =  df.pivot_table(index=['category_price', 'category_year'], values='km_driven', aggfunc=['mean', 'median'])\n",
    "\n",
    "print(pivot_table)"
   ]
  },
  {
   "cell_type": "markdown",
   "metadata": {},
   "source": [
    "#### Выводы по заданию 19\n",
    "\n",
    "Разделение по году было выбрано из-за анализа в прошлых заданиях, видно что резкие изменений в цене начинаются в 2009 и 2016 годах, поэтому было решено взять именно эти года, а для цены использовались квантили, которые разделяют все на равные части. \n",
    "\n",
    "Наблюдается очевидная прямая зависимость возраста и пробега: чем старше автомобиль, тем выше его пробег\n",
    "\n",
    "\n",
    "- Для \"Новых\" и \"Средних\" по году автомобилей категория стоимости почти не влияет на пробег — он остается соответственно низким или средним.\n",
    "- Наибольший пробег (109 тыс. км) наблюдается у \"Старых\" автомобилей в \"Средней\" ценовой категории. Это указывает на то, что такие автомобили, активно эксплуатировались и представляют собой наиболее массовый сегмент подержанных авто.\n",
    "- Видна близость среднего и медианного пробега, В большинстве категорий среднее и медианное значения пробега близки, что говорит об отсутствии сильных выбросов. Небольшое расхождение в категории \"Старая\" и \"Средняя\" цена может указывать на наличие нескольких автомобилей с очень большим пробегом, которые немного тянут среднее вверх."
   ]
  },
  {
   "cell_type": "markdown",
   "metadata": {},
   "source": [
    "**`Подробная формулировка задания`**\n",
    "\n",
    "Задание 25. Создать столбец “Категория стоимости (price)” (с помощью категоризации).\n",
    "Выделить минимум 3 категории (низкая, высокая, средняя), фильтрацию для\n",
    "уровня цены выбрать самостоятельно, аргументировать выбор. Отфильтровать\n",
    "набор данных. Выбрать только записи, где категория цены= средняя+ выбрать\n",
    "2 типа топлива с минимальной медианной стоимостью + transmission c\n",
    "максимальным количеством записей + owner с максимальным количеством\n",
    "записей. Создать группировки : средний, максимальный, минимальный,\n",
    "медианный пробег и средняя, максимальная, минимальная, медианная цена по\n",
    "году и по типу seller_type.\n",
    "\n"
   ]
  },
  {
   "cell_type": "code",
   "execution_count": null,
   "metadata": {},
   "outputs": [
    {
     "name": "stdout",
     "output_type": "stream",
     "text": [
      "                          mean_km_driven  max_km_driven  min_km_driven  \\\n",
      "release_year seller_type                                                 \n",
      "2014         Individual      29000.00000    29000.00000    29000.00000   \n",
      "\n",
      "                          median_km_driven  mean_selling_price  \\\n",
      "release_year seller_type                                         \n",
      "2014         Individual        29000.00000        290000.00000   \n",
      "\n",
      "                          max_selling_price  min_selling_price  \\\n",
      "release_year seller_type                                         \n",
      "2014         Individual        290000.00000       290000.00000   \n",
      "\n",
      "                          median_selling_price  \n",
      "release_year seller_type                        \n",
      "2014         Individual           290000.00000  \n"
     ]
    },
    {
     "name": "stderr",
     "output_type": "stream",
     "text": [
      "C:\\Users\\fedor\\AppData\\Local\\Temp\\ipykernel_10244\\2994503372.py:17: SettingWithCopyWarning: \n",
      "A value is trying to be set on a copy of a slice from a DataFrame.\n",
      "Try using .loc[row_indexer,col_indexer] = value instead\n",
      "\n",
      "See the caveats in the documentation: https://pandas.pydata.org/pandas-docs/stable/user_guide/indexing.html#returning-a-view-versus-a-copy\n",
      "  df['category_price'] = df['selling_price'].apply(get_category_selling)\n"
     ]
    }
   ],
   "source": [
    "# код выполнения задания 25\n",
    "\n",
    "# Объявление границ для разделения на категории\n",
    "low_selling_price = df['selling_price'].quantile(0.33)\n",
    "high_selling_price = df['selling_price'].quantile(0.67)\n",
    "\n",
    "# Функция для присовения категории\n",
    "def get_category_selling(selling_price):\n",
    "    if selling_price <= low_selling_price:\n",
    "        return 'Низкая'\n",
    "    elif selling_price <= high_selling_price:\n",
    "        return 'Средняя'\n",
    "    else:\n",
    "        return 'Высокая'\n",
    "\n",
    "# Создание столбца с типом цены\n",
    "df['category_price'] = df['selling_price'].apply(get_category_selling)\n",
    "\n",
    "# Фильтрация\n",
    "filtered_df = df[df['category_price'] == 'Средняя'].copy()\n",
    "median_price_by_fuel = filtered_df.groupby('fuel_type')['selling_price'].median().sort_values()\n",
    "top_2_fuel_types = median_price_by_fuel.iloc[:2].index.tolist()\n",
    "most_transmission = filtered_df['transmission'].value_counts().idxmax()\n",
    "most_owner = filtered_df['owner_type'].value_counts().idxmax()\n",
    "\n",
    "# Применение всех фильтров к датафрейму\n",
    "df_final_filtered = df[\n",
    "    (df['category_price'] == 'Средняя') &\n",
    "    (df['fuel_type'].isin(top_2_fuel_types)) &\n",
    "    (df['transmission'] == most_transmission) &\n",
    "    (df['owner_type'] == most_owner)\n",
    "].copy()\n",
    "\n",
    "# Создание группировки данных\n",
    "grouped_data = df_final_filtered.groupby(['release_year', 'seller_type']).agg(\n",
    "    mean_km_driven=('km_driven', 'mean'),\n",
    "    max_km_driven=('km_driven', 'max'),\n",
    "    min_km_driven=('km_driven', 'min'),\n",
    "    median_km_driven=('km_driven', 'median'),\n",
    "    mean_selling_price=('selling_price', 'mean'),\n",
    "    max_selling_price=('selling_price', 'max'),\n",
    "    min_selling_price=('selling_price', 'min'),\n",
    "    median_selling_price=('selling_price', 'median')\n",
    ")\n",
    "\n",
    "print(grouped_data)"
   ]
  },
  {
   "cell_type": "markdown",
   "metadata": {},
   "source": [
    "#### Выводы по заданию 25\n",
    "\n",
    "После всех условий фильтрации осталось лишь одно значение с пробегом в 29000 км и ценой в 290000. По данным одной машины не получится провести анализ с полезной и значимой информацией. Это показывает, что условия отбора оказались слишком строгими"
   ]
  }
 ],
 "metadata": {
  "colab": {
   "provenance": []
  },
  "kernelspec": {
   "display_name": ".venv",
   "language": "python",
   "name": "python3"
  },
  "language_info": {
   "codemirror_mode": {
    "name": "ipython",
    "version": 3
   },
   "file_extension": ".py",
   "mimetype": "text/x-python",
   "name": "python",
   "nbconvert_exporter": "python",
   "pygments_lexer": "ipython3",
   "version": "3.12.3"
  }
 },
 "nbformat": 4,
 "nbformat_minor": 4
}
